{
 "cells": [
  {
   "cell_type": "code",
   "execution_count": 20,
   "metadata": {},
   "outputs": [],
   "source": [
    "import matplotlib.pyplot as plt\n",
    "import pandas as pd\n",
    "\n",
    "\n",
    "pd.options.display.max_columns = None"
   ]
  },
  {
   "cell_type": "code",
   "execution_count": 21,
   "metadata": {},
   "outputs": [
    {
     "name": "stdout",
     "output_type": "stream",
     "text": [
      "'2019-07-29 11:09:11.161728.csv'  '2019-07-29 11:36:25.126131.csv'\r\n",
      "'2019-07-29 11:12:24.212371.csv'  '2019-07-29 11:36:29.641976.csv'\r\n",
      "'2019-07-29 11:18:47.828159.csv'  '2019-07-29 11:36:42.827361.csv'\r\n",
      "'2019-07-29 11:25:46.531776.csv'  '2019-07-29 11:36:50.769226.csv'\r\n",
      "'2019-07-29 11:27:31.137087.csv'  '2019-07-29 11:36:54.245486.csv'\r\n",
      "'2019-07-29 11:28:17.663713.csv'  '2019-07-29 11:37:09.597547.csv'\r\n",
      "'2019-07-29 11:30:43.241833.csv'  '2019-07-29 11:38:40.071380.csv'\r\n",
      "'2019-07-29 11:31:19.443521.csv'  '2019-07-29 11:38:42.481993.csv'\r\n",
      "'2019-07-29 11:32:24.177459.csv'  '2019-07-29 11:40:17.692605.csv'\r\n",
      "'2019-07-29 11:32:57.664874.csv'  '2019-07-29 15:35:14.731419.csv'\r\n",
      "'2019-07-29 11:33:10.211008.csv'  '2019-07-29 15:35:29.859531.csv'\r\n",
      "'2019-07-29 11:33:51.470817.csv'  '2019-07-29 15:36:28.678266.csv'\r\n",
      "'2019-07-29 11:34:43.306469.csv'  '2019-07-29 15:42:06.288675.csv'\r\n",
      "'2019-07-29 11:35:09.155893.csv'\r\n"
     ]
    }
   ],
   "source": [
    "!ls dumps/"
   ]
  },
  {
   "cell_type": "code",
   "execution_count": 22,
   "metadata": {},
   "outputs": [
    {
     "data": {
      "text/plain": [
       "<matplotlib.axes._subplots.AxesSubplot at 0x7fee43a641d0>"
      ]
     },
     "execution_count": 22,
     "metadata": {},
     "output_type": "execute_result"
    },
    {
     "data": {
      "image/png": "[encoded data removed]",
      "text/plain": [
       "<Figure size 432x288 with 1 Axes>"
      ]
     },
     "metadata": {
      "needs_background": "light"
     },
     "output_type": "display_data"
    }
   ],
   "source": [
    "pd.read_csv(\"dumps/2019-07-29 15:42:06.288675.csv\")[\"p1.entity.character_data.facing_direction\"].plot()"
   ]
  },
  {
   "cell_type": "code",
   "execution_count": null,
   "metadata": {},
   "outputs": [],
   "source": []
  },
  {
   "cell_type": "code",
   "execution_count": null,
   "metadata": {},
   "outputs": [],
   "source": []
  }
 ],
 "metadata": {
  "kernelspec": {
   "display_name": "Python 3",
   "language": "python",
   "name": "python3"
  },
  "language_info": {
   "codemirror_mode": {
    "name": "ipython",
    "version": 3
   },
   "file_extension": ".py",
   "mimetype": "text/x-python",
   "name": "python",
   "nbconvert_exporter": "python",
   "pygments_lexer": "ipython3",
   "version": "3.7.3"
  },
  "varInspector": {
   "cols": {
    "lenName": 16,
    "lenType": 16,
    "lenVar": 40
   },
   "kernels_config": {
    "python": {
     "delete_cmd_postfix": "",
     "delete_cmd_prefix": "del ",
     "library": "var_list.py",
     "varRefreshCmd": "print(var_dic_list())"
    },
    "r": {
     "delete_cmd_postfix": ") ",
     "delete_cmd_prefix": "rm(",
     "library": "var_list.r",
     "varRefreshCmd": "cat(var_dic_list()) "
    }
   },
   "types_to_exclude": [
    "module",
    "function",
    "builtin_function_or_method",
    "instance",
    "_Feature"
   ],
   "window_display": false
  }
 },
 "nbformat": 4,
 "nbformat_minor": 2
}
