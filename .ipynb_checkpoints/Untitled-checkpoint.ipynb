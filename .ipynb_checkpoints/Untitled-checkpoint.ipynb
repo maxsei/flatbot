{
 "cells": [
  {
   "cell_type": "code",
   "execution_count": 11,
   "metadata": {},
   "outputs": [],
   "source": [
    "import pandas as pd\n",
    "\n",
    "\n",
    "pd.options.display.max_columns = None"
   ]
  },
  {
   "cell_type": "code",
   "execution_count": 14,
   "metadata": {},
   "outputs": [
    {
     "name": "stdout",
     "output_type": "stream",
     "text": [
      "'2019-07-29 11:09:11.161728.csv'  '2019-07-29 11:36:25.126131.csv'\r\n",
      "'2019-07-29 11:12:24.212371.csv'  '2019-07-29 11:36:29.641976.csv'\r\n",
      "'2019-07-29 11:18:47.828159.csv'  '2019-07-29 11:36:42.827361.csv'\r\n",
      "'2019-07-29 11:25:46.531776.csv'  '2019-07-29 11:36:50.769226.csv'\r\n",
      "'2019-07-29 11:27:31.137087.csv'  '2019-07-29 11:36:54.245486.csv'\r\n",
      "'2019-07-29 11:28:17.663713.csv'  '2019-07-29 11:37:09.597547.csv'\r\n",
      "'2019-07-29 11:30:43.241833.csv'  '2019-07-29 11:38:40.071380.csv'\r\n",
      "'2019-07-29 11:31:19.443521.csv'  '2019-07-29 11:38:42.481993.csv'\r\n",
      "'2019-07-29 11:32:24.177459.csv'  '2019-07-29 11:40:17.692605.csv'\r\n",
      "'2019-07-29 11:32:57.664874.csv'  '2019-07-29 15:35:14.731419.csv'\r\n",
      "'2019-07-29 11:33:10.211008.csv'  '2019-07-29 15:35:29.859531.csv'\r\n",
      "'2019-07-29 11:33:51.470817.csv'  '2019-07-29 15:36:28.678266.csv'\r\n",
      "'2019-07-29 11:34:43.306469.csv'  '2019-07-29 15:42:06.288675.csv'\r\n",
      "'2019-07-29 11:35:09.155893.csv'\r\n"
     ]
    }
   ],
   "source": [
    "!ls dumps/"
   ]
  },
  {
   "cell_type": "code",
   "execution_count": 17,
   "metadata": {},
   "outputs": [
    {
     "data": {
      "text/plain": [
       "0      False\n",
       "1      False\n",
       "2      False\n",
       "3      False\n",
       "4      False\n",
       "5      False\n",
       "6      False\n",
       "7      False\n",
       "8      False\n",
       "9      False\n",
       "10     False\n",
       "11     False\n",
       "12     False\n",
       "13     False\n",
       "14     False\n",
       "15     False\n",
       "16     False\n",
       "17     False\n",
       "18     False\n",
       "19     False\n",
       "20     False\n",
       "21     False\n",
       "22     False\n",
       "23     False\n",
       "24     False\n",
       "25     False\n",
       "26     False\n",
       "27     False\n",
       "28     False\n",
       "29     False\n",
       "       ...  \n",
       "265    False\n",
       "266    False\n",
       "267    False\n",
       "268    False\n",
       "269    False\n",
       "270    False\n",
       "271    False\n",
       "272    False\n",
       "273    False\n",
       "274    False\n",
       "275    False\n",
       "276    False\n",
       "277    False\n",
       "278    False\n",
       "279    False\n",
       "280    False\n",
       "281    False\n",
       "282    False\n",
       "283    False\n",
       "284    False\n",
       "285    False\n",
       "286    False\n",
       "287    False\n",
       "288    False\n",
       "289    False\n",
       "290    False\n",
       "291    False\n",
       "292    False\n",
       "293    False\n",
       "294    False\n",
       "Name: p1.entity.character_data.facing_direction, Length: 295, dtype: bool"
      ]
     },
     "execution_count": 17,
     "metadata": {},
     "output_type": "execute_result"
    }
   ],
   "source": [
    "pd.read_csv(\"dumps/2019-07-29 15:42:06.288675.csv\")[\"p1.entity.character_data.facing_direction\"]"
   ]
  },
  {
   "cell_type": "code",
   "execution_count": null,
   "metadata": {},
   "outputs": [],
   "source": []
  }
 ],
 "metadata": {
  "kernelspec": {
   "display_name": "Python 3",
   "language": "python",
   "name": "python3"
  },
  "language_info": {
   "codemirror_mode": {
    "name": "ipython",
    "version": 3
   },
   "file_extension": ".py",
   "mimetype": "text/x-python",
   "name": "python",
   "nbconvert_exporter": "python",
   "pygments_lexer": "ipython3",
   "version": "3.7.3"
  },
  "varInspector": {
   "cols": {
    "lenName": 16,
    "lenType": 16,
    "lenVar": 40
   },
   "kernels_config": {
    "python": {
     "delete_cmd_postfix": "",
     "delete_cmd_prefix": "del ",
     "library": "var_list.py",
     "varRefreshCmd": "print(var_dic_list())"
    },
    "r": {
     "delete_cmd_postfix": ") ",
     "delete_cmd_prefix": "rm(",
     "library": "var_list.r",
     "varRefreshCmd": "cat(var_dic_list()) "
    }
   },
   "types_to_exclude": [
    "module",
    "function",
    "builtin_function_or_method",
    "instance",
    "_Feature"
   ],
   "window_display": false
  }
 },
 "nbformat": 4,
 "nbformat_minor": 2
}
